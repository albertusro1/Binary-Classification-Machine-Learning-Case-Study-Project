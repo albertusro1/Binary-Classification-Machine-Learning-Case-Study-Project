{
  "nbformat": 4,
  "nbformat_minor": 0,
  "metadata": {
    "colab": {
      "name": "Binary Classification Machine Learning Case Study Project.ipynb",
      "provenance": [],
      "collapsed_sections": []
    },
    "kernelspec": {
      "name": "python3",
      "display_name": "Python 3"
    }
  },
  "cells": [
    {
      "cell_type": "markdown",
      "metadata": {
        "id": "WII_6Cm9xTq8"
      },
      "source": [
        "# Load The Dataset"
      ]
    },
    {
      "cell_type": "code",
      "metadata": {
        "id": "PPbd9dSxwsob"
      },
      "source": [
        "# Load libraries\n",
        "import numpy\n",
        "from matplotlib import pyplot\n",
        "from pandas import read_csv\n",
        "from pandas import set_option\n",
        "from pandas.plotting import scatter_matrix\n",
        "from sklearn.preprocessing import StandardScaler\n",
        "from sklearn.model_selection import train_test_split\n",
        "from sklearn.model_selection import KFold\n",
        "from sklearn.model_selection import cross_val_score\n",
        "from sklearn.model_selection import GridSearchCV\n",
        "from sklearn.metrics import classification_report\n",
        "from sklearn.metrics import confusion_matrix\n",
        "from sklearn.metrics import accuracy_score\n",
        "from sklearn.pipeline import Pipeline\n",
        "from sklearn.linear_model import LogisticRegression\n",
        "from sklearn.tree import DecisionTreeClassifier\n",
        "from sklearn.neighbors import KNeighborsClassifier\n",
        "from sklearn.discriminant_analysis import LinearDiscriminantAnalysis\n",
        "from sklearn.naive_bayes import GaussianNB\n",
        "from sklearn.svm import SVC\n",
        "from sklearn.ensemble import AdaBoostClassifier\n",
        "from sklearn.ensemble import GradientBoostingClassifier\n",
        "from sklearn.ensemble import RandomForestClassifier\n",
        "from sklearn.ensemble import ExtraTreesClassifier"
      ],
      "execution_count": null,
      "outputs": []
    },
    {
      "cell_type": "code",
      "metadata": {
        "id": "q1zTfQ5lxffh"
      },
      "source": [
        "# Load dataset\n",
        "filename = 'sonar.all-data.csv'\n",
        "dataset = read_csv(filename, header=None)"
      ],
      "execution_count": null,
      "outputs": []
    },
    {
      "cell_type": "markdown",
      "metadata": {
        "id": "_oJblFFtxyas"
      },
      "source": [
        "# Analyze Data"
      ]
    },
    {
      "cell_type": "markdown",
      "metadata": {
        "id": "ObL7kGLQzOqZ"
      },
      "source": [
        "\n",
        "\n",
        "*   Descriptive Statistics\n",
        "\n"
      ]
    },
    {
      "cell_type": "code",
      "metadata": {
        "id": "7PaX1UmWx0B4",
        "colab": {
          "base_uri": "https://localhost:8080/"
        },
        "outputId": "83cc9eaf-0b1f-4b55-d6b9-337382a4da7d"
      },
      "source": [
        "# shape\n",
        "print(dataset.shape)"
      ],
      "execution_count": null,
      "outputs": [
        {
          "output_type": "stream",
          "text": [
            "(208, 61)\n"
          ],
          "name": "stdout"
        }
      ]
    },
    {
      "cell_type": "code",
      "metadata": {
        "colab": {
          "base_uri": "https://localhost:8080/"
        },
        "id": "iu-XbynHcsRD",
        "outputId": "6f963534-b941-480f-e6e4-c693385872df"
      },
      "source": [
        "# types\n",
        "set_option('display.max_rows', 500)\n",
        "print(dataset.dtypes)"
      ],
      "execution_count": null,
      "outputs": [
        {
          "output_type": "stream",
          "text": [
            "0     float64\n",
            "1     float64\n",
            "2     float64\n",
            "3     float64\n",
            "4     float64\n",
            "5     float64\n",
            "6     float64\n",
            "7     float64\n",
            "8     float64\n",
            "9     float64\n",
            "10    float64\n",
            "11    float64\n",
            "12    float64\n",
            "13    float64\n",
            "14    float64\n",
            "15    float64\n",
            "16    float64\n",
            "17    float64\n",
            "18    float64\n",
            "19    float64\n",
            "20    float64\n",
            "21    float64\n",
            "22    float64\n",
            "23    float64\n",
            "24    float64\n",
            "25    float64\n",
            "26    float64\n",
            "27    float64\n",
            "28    float64\n",
            "29    float64\n",
            "30    float64\n",
            "31    float64\n",
            "32    float64\n",
            "33    float64\n",
            "34    float64\n",
            "35    float64\n",
            "36    float64\n",
            "37    float64\n",
            "38    float64\n",
            "39    float64\n",
            "40    float64\n",
            "41    float64\n",
            "42    float64\n",
            "43    float64\n",
            "44    float64\n",
            "45    float64\n",
            "46    float64\n",
            "47    float64\n",
            "48    float64\n",
            "49    float64\n",
            "50    float64\n",
            "51    float64\n",
            "52    float64\n",
            "53    float64\n",
            "54    float64\n",
            "55    float64\n",
            "56    float64\n",
            "57    float64\n",
            "58    float64\n",
            "59    float64\n",
            "60     object\n",
            "dtype: object\n"
          ],
          "name": "stdout"
        }
      ]
    },
    {
      "cell_type": "code",
      "metadata": {
        "colab": {
          "base_uri": "https://localhost:8080/"
        },
        "id": "-I0R-RBlcwap",
        "outputId": "7d4401e0-381f-4355-fac7-74931cabc09b"
      },
      "source": [
        "# head\n",
        "set_option('display.width', 100)\n",
        "print(dataset.head(20))"
      ],
      "execution_count": null,
      "outputs": [
        {
          "output_type": "stream",
          "text": [
            "        0       1       2       3       4   ...      56      57      58      59  60\n",
            "0   0.0200  0.0371  0.0428  0.0207  0.0954  ...  0.0180  0.0084  0.0090  0.0032   R\n",
            "1   0.0453  0.0523  0.0843  0.0689  0.1183  ...  0.0140  0.0049  0.0052  0.0044   R\n",
            "2   0.0262  0.0582  0.1099  0.1083  0.0974  ...  0.0316  0.0164  0.0095  0.0078   R\n",
            "3   0.0100  0.0171  0.0623  0.0205  0.0205  ...  0.0050  0.0044  0.0040  0.0117   R\n",
            "4   0.0762  0.0666  0.0481  0.0394  0.0590  ...  0.0072  0.0048  0.0107  0.0094   R\n",
            "5   0.0286  0.0453  0.0277  0.0174  0.0384  ...  0.0057  0.0027  0.0051  0.0062   R\n",
            "6   0.0317  0.0956  0.1321  0.1408  0.1674  ...  0.0092  0.0143  0.0036  0.0103   R\n",
            "7   0.0519  0.0548  0.0842  0.0319  0.1158  ...  0.0085  0.0047  0.0048  0.0053   R\n",
            "8   0.0223  0.0375  0.0484  0.0475  0.0647  ...  0.0065  0.0093  0.0059  0.0022   R\n",
            "9   0.0164  0.0173  0.0347  0.0070  0.0187  ...  0.0032  0.0035  0.0056  0.0040   R\n",
            "10  0.0039  0.0063  0.0152  0.0336  0.0310  ...  0.0042  0.0003  0.0053  0.0036   R\n",
            "11  0.0123  0.0309  0.0169  0.0313  0.0358  ...  0.0026  0.0092  0.0009  0.0044   R\n",
            "12  0.0079  0.0086  0.0055  0.0250  0.0344  ...  0.0059  0.0058  0.0059  0.0032   R\n",
            "13  0.0090  0.0062  0.0253  0.0489  0.1197  ...  0.0158  0.0053  0.0189  0.0102   R\n",
            "14  0.0124  0.0433  0.0604  0.0449  0.0597  ...  0.0114  0.0196  0.0147  0.0062   R\n",
            "15  0.0298  0.0615  0.0650  0.0921  0.1615  ...  0.0152  0.0049  0.0200  0.0073   R\n",
            "16  0.0352  0.0116  0.0191  0.0469  0.0737  ...  0.0095  0.0015  0.0073  0.0067   R\n",
            "17  0.0192  0.0607  0.0378  0.0774  0.1388  ...  0.0045  0.0037  0.0112  0.0075   R\n",
            "18  0.0270  0.0092  0.0145  0.0278  0.0412  ...  0.0120  0.0132  0.0070  0.0088   R\n",
            "19  0.0126  0.0149  0.0641  0.1732  0.2565  ...  0.0181  0.0094  0.0116  0.0063   R\n",
            "\n",
            "[20 rows x 61 columns]\n"
          ],
          "name": "stdout"
        }
      ]
    },
    {
      "cell_type": "code",
      "metadata": {
        "colab": {
          "base_uri": "https://localhost:8080/"
        },
        "id": "UjilEpVKc8JU",
        "outputId": "3462fc9d-da58-4f02-ca95-fb2213f0ad99"
      },
      "source": [
        "# descriptions, change precision to 3 places\n",
        "set_option('precision', 3)\n",
        "print(dataset.describe())"
      ],
      "execution_count": null,
      "outputs": [
        {
          "output_type": "stream",
          "text": [
            "            0          1        2   ...         57         58         59\n",
            "count  208.000  2.080e+02  208.000  ...  2.080e+02  2.080e+02  2.080e+02\n",
            "mean     0.029  3.844e-02    0.044  ...  7.949e-03  7.941e-03  6.507e-03\n",
            "std      0.023  3.296e-02    0.038  ...  6.470e-03  6.181e-03  5.031e-03\n",
            "min      0.002  6.000e-04    0.002  ...  3.000e-04  1.000e-04  6.000e-04\n",
            "25%      0.013  1.645e-02    0.019  ...  3.600e-03  3.675e-03  3.100e-03\n",
            "50%      0.023  3.080e-02    0.034  ...  5.800e-03  6.400e-03  5.300e-03\n",
            "75%      0.036  4.795e-02    0.058  ...  1.035e-02  1.033e-02  8.525e-03\n",
            "max      0.137  2.339e-01    0.306  ...  4.400e-02  3.640e-02  4.390e-02\n",
            "\n",
            "[8 rows x 60 columns]\n"
          ],
          "name": "stdout"
        }
      ]
    },
    {
      "cell_type": "code",
      "metadata": {
        "colab": {
          "base_uri": "https://localhost:8080/"
        },
        "id": "gcB79gmzdAZk",
        "outputId": "6a991766-9872-486c-b072-092908ae77a8"
      },
      "source": [
        "# class distribution\n",
        "print(dataset.groupby(60).size())"
      ],
      "execution_count": null,
      "outputs": [
        {
          "output_type": "stream",
          "text": [
            "60\n",
            "M    111\n",
            "R     97\n",
            "dtype: int64\n"
          ],
          "name": "stdout"
        }
      ]
    },
    {
      "cell_type": "markdown",
      "metadata": {
        "id": "XbXqHhIwdEO6"
      },
      "source": [
        "# Unimodal Data Visualizations"
      ]
    },
    {
      "cell_type": "code",
      "metadata": {
        "colab": {
          "base_uri": "https://localhost:8080/",
          "height": 272
        },
        "id": "wc36sfZVdFEu",
        "outputId": "e9fee6a3-a340-4f3a-fbd0-4d57a1bca0d7"
      },
      "source": [
        "# histograms\n",
        "dataset.hist(sharex=False, sharey=False, xlabelsize=1, ylabelsize=1)\n",
        "pyplot.show()"
      ],
      "execution_count": null,
      "outputs": [
        {
          "output_type": "display_data",
          "data": {
            "image/png": "[encoded data removed]",
            "text/plain": [
              "<Figure size 432x288 with 64 Axes>"
            ]
          },
          "metadata": {
            "tags": [],
            "needs_background": "light"
          }
        }
      ]
    },
    {
      "cell_type": "code",
      "metadata": {
        "colab": {
          "base_uri": "https://localhost:8080/",
          "height": 264
        },
        "id": "ErmImVRwdNwl",
        "outputId": "f88d0428-f14a-4a61-b7be-8ae778c57291"
      },
      "source": [
        "# density\n",
        "dataset.plot(kind='density', subplots=True, layout=(8,8), sharex=False, legend=False, fontsize=1)\n",
        "pyplot.show()"
      ],
      "execution_count": null,
      "outputs": [
        {
          "output_type": "display_data",
          "data": {
            "image/png": "[encoded data removed]",
            "text/plain": [
              "<Figure size 432x288 with 64 Axes>"
            ]
          },
          "metadata": {
            "tags": [],
            "needs_background": "light"
          }
        }
      ]
    },
    {
      "cell_type": "code",
      "metadata": {
        "id": "gMSHmkwDdfGP"
      },
      "source": [
        "# box and whisker plots\n"
      ],
      "execution_count": null,
      "outputs": []
    },
    {
      "cell_type": "markdown",
      "metadata": {
        "id": "P9k6G1LGd7RA"
      },
      "source": [
        "#  Multimodal Data Visualizations"
      ]
    },
    {
      "cell_type": "code",
      "metadata": {
        "colab": {
          "base_uri": "https://localhost:8080/",
          "height": 271
        },
        "id": "twDg43fOd4tf",
        "outputId": "c5ae203d-994e-41f4-e962-c2179683481f"
      },
      "source": [
        "# correlation matrix\n",
        "fig = pyplot.figure()\n",
        "ax = fig.add_subplot(111)\n",
        "cax = ax.matshow(dataset.corr(), vmin=-1, vmax=1, interpolation='none')\n",
        "fig.colorbar(cax)\n",
        "pyplot.show()"
      ],
      "execution_count": null,
      "outputs": [
        {
          "output_type": "display_data",
          "data": {
            "image/png": "[encoded data removed]",
            "text/plain": [
              "<Figure size 432x288 with 2 Axes>"
            ]
          },
          "metadata": {
            "tags": [],
            "needs_background": "light"
          }
        }
      ]
    },
    {
      "cell_type": "markdown",
      "metadata": {
        "id": "GK1iz6uReAZB"
      },
      "source": [
        "#  Validation Dataset"
      ]
    },
    {
      "cell_type": "code",
      "metadata": {
        "id": "M6qGuIREeBUy"
      },
      "source": [
        "# Split-out validation dataset\n",
        "array = dataset.values\n",
        "X = array[:,0:-1].astype(float)\n",
        "Y = array[:,-1]\n",
        "validation_size = 0.20\n",
        "seed = 7\n",
        "X_train, X_validation, Y_train, Y_validation = train_test_split(X, Y, test_size=validation_size, random_state=seed)"
      ],
      "execution_count": null,
      "outputs": []
    },
    {
      "cell_type": "markdown",
      "metadata": {
        "id": "qnz1Cz3meKOT"
      },
      "source": [
        "# Evaluate Algorithms: Baseline"
      ]
    },
    {
      "cell_type": "code",
      "metadata": {
        "id": "xrRtLGs3eLKl"
      },
      "source": [
        "# Test options and evaluation metric\n",
        "num_folds = 10\n",
        "seed = 7\n",
        "scoring = 'accuracy'"
      ],
      "execution_count": null,
      "outputs": []
    },
    {
      "cell_type": "code",
      "metadata": {
        "id": "kYgP76YUeNbv"
      },
      "source": [
        "# Spot-Check Algorithms\n",
        "models = []\n",
        "models.append(('LR', LogisticRegression(max_iter=5000)))\n",
        "models.append(('LDA', LinearDiscriminantAnalysis()))\n",
        "models.append(('KNN', KNeighborsClassifier()))\n",
        "models.append(('CART', DecisionTreeClassifier()))\n",
        "models.append(('NB', GaussianNB()))\n",
        "models.append(('SVM', SVC()))"
      ],
      "execution_count": null,
      "outputs": []
    },
    {
      "cell_type": "code",
      "metadata": {
        "colab": {
          "base_uri": "https://localhost:8080/"
        },
        "id": "PuIMzbu9eR-W",
        "outputId": "da9b7675-ef72-40ce-9c7d-36660be489b0"
      },
      "source": [
        "results = []\n",
        "names = []\n",
        "for name, model in models:\n",
        "  kfold = KFold(n_splits=num_folds)\n",
        "  cv_results = cross_val_score(model, X_train, Y_train, cv=kfold, scoring=scoring)\n",
        "  results.append(cv_results)\n",
        "  names.append(name)\n",
        "  msg = \"%s: %f (%f)\" % (name, cv_results.mean(), cv_results.std())\n",
        "  print(msg)"
      ],
      "execution_count": null,
      "outputs": [
        {
          "output_type": "stream",
          "text": [
            "LR: 0.769485 (0.100510)\n",
            "LDA: 0.746324 (0.117854)\n",
            "KNN: 0.808088 (0.067507)\n",
            "CART: 0.711765 (0.123326)\n",
            "NB: 0.648897 (0.141868)\n",
            "SVM: 0.776471 (0.090411)\n"
          ],
          "name": "stdout"
        }
      ]
    },
    {
      "cell_type": "code",
      "metadata": {
        "colab": {
          "base_uri": "https://localhost:8080/",
          "height": 294
        },
        "id": "JFmlRIZ_ebf3",
        "outputId": "fe265a8a-22c0-44a7-b6b5-109e39add378"
      },
      "source": [
        "# Compare Algorithms\n",
        "fig = pyplot.figure()\n",
        "fig.suptitle('Algorithm Comparison')\n",
        "ax = fig.add_subplot(111)\n",
        "pyplot.boxplot(results)\n",
        "ax.set_xticklabels(names)\n",
        "pyplot.show()"
      ],
      "execution_count": null,
      "outputs": [
        {
          "output_type": "display_data",
          "data": {
            "image/png": "[encoded data removed]",
            "text/plain": [
              "<Figure size 432x288 with 1 Axes>"
            ]
          },
          "metadata": {
            "tags": [],
            "needs_background": "light"
          }
        }
      ]
    },
    {
      "cell_type": "markdown",
      "metadata": {
        "id": "TA_hk5I5eiwp"
      },
      "source": [
        "# Evaluate Algorithms: Standardize Data"
      ]
    },
    {
      "cell_type": "code",
      "metadata": {
        "colab": {
          "base_uri": "https://localhost:8080/"
        },
        "id": "BtsQsacQejsY",
        "outputId": "b8597eeb-5758-4984-9fa8-f7316dba833c"
      },
      "source": [
        "# Standardize the dataset\n",
        "pipelines = []\n",
        "pipelines.append(('ScaledLR', Pipeline([('Scaler', StandardScaler()),('LR', LogisticRegression())])))\n",
        "pipelines.append(('ScaledLDA', Pipeline([('Scaler', StandardScaler()),('LDA', LinearDiscriminantAnalysis())])))\n",
        "pipelines.append(('ScaledKNN', Pipeline([('Scaler', StandardScaler()),('KNN', KNeighborsClassifier())])))\n",
        "pipelines.append(('ScaledCART', Pipeline([('Scaler', StandardScaler()),('CART', DecisionTreeClassifier())])))\n",
        "pipelines.append(('ScaledNB', Pipeline([('Scaler', StandardScaler()),('NB', GaussianNB())])))\n",
        "pipelines.append(('ScaledSVM', Pipeline([('Scaler', StandardScaler()),('SVM', SVC())])))\n",
        "results = []\n",
        "names = []\n",
        "for name, model in pipelines:\n",
        "  kfold = KFold(n_splits=num_folds)\n",
        "  cv_results = cross_val_score(model, X_train, Y_train, cv=kfold, scoring=scoring)\n",
        "  results.append(cv_results)\n",
        "  names.append(name)\n",
        "  msg = \"%s: %f (%f)\" % (name, cv_results.mean(), cv_results.std())\n",
        "  print(msg)"
      ],
      "execution_count": null,
      "outputs": [
        {
          "output_type": "stream",
          "text": [
            "ScaledLR: 0.740441 (0.094668)\n",
            "ScaledLDA: 0.746324 (0.117854)\n",
            "ScaledKNN: 0.825735 (0.054511)\n",
            "ScaledCART: 0.716912 (0.119855)\n",
            "ScaledNB: 0.648897 (0.141868)\n",
            "ScaledSVM: 0.836397 (0.088697)\n"
          ],
          "name": "stdout"
        }
      ]
    },
    {
      "cell_type": "code",
      "metadata": {
        "colab": {
          "base_uri": "https://localhost:8080/",
          "height": 294
        },
        "id": "ftcxNuT5e1yF",
        "outputId": "428375a8-5b8c-4af3-f68c-ab9c8366c02e"
      },
      "source": [
        "# Compare Algorithms\n",
        "fig = pyplot.figure()\n",
        "fig.suptitle('Scaled Algorithm Comparison')\n",
        "ax = fig.add_subplot(111)\n",
        "pyplot.boxplot(results)\n",
        "ax.set_xticklabels(names)\n",
        "pyplot.show()"
      ],
      "execution_count": null,
      "outputs": [
        {
          "output_type": "display_data",
          "data": {
            "image/png": "[encoded data removed]",
            "text/plain": [
              "<Figure size 432x288 with 1 Axes>"
            ]
          },
          "metadata": {
            "tags": [],
            "needs_background": "light"
          }
        }
      ]
    },
    {
      "cell_type": "markdown",
      "metadata": {
        "id": "GRgdgnefe9-j"
      },
      "source": [
        "# Algorithm Tuning"
      ]
    },
    {
      "cell_type": "markdown",
      "metadata": {
        "id": "ubI-vpHtfAcf"
      },
      "source": [
        "*  Tuning KNN"
      ]
    },
    {
      "cell_type": "code",
      "metadata": {
        "colab": {
          "base_uri": "https://localhost:8080/"
        },
        "id": "UJJZp2Nje-6N",
        "outputId": "1aac9864-81a6-4353-be67-fc7538fa6db7"
      },
      "source": [
        "# Tune scaled KNN\n",
        "scaler = StandardScaler().fit(X_train)\n",
        "rescaledX = scaler.transform(X_train)\n",
        "neighbors = [1,3,5,7,9,11,13,15,17,19,21]\n",
        "param_grid = dict(n_neighbors=neighbors)\n",
        "model = KNeighborsClassifier()\n",
        "kfold = KFold(n_splits=num_folds)\n",
        "grid = GridSearchCV(estimator=model, param_grid=param_grid, scoring=scoring, cv=kfold)\n",
        "grid_result = grid.fit(rescaledX, Y_train)\n",
        "print(\"Best: %f using %s\" % (grid_result.best_score_, grid_result.best_params_))\n",
        "means = grid_result.cv_results_['mean_test_score']\n",
        "stds = grid_result.cv_results_['std_test_score']\n",
        "params = grid_result.cv_results_['params']\n",
        "for mean, stdev, param in zip(means, stds, params):\n",
        "  print(\"%f (%f) with: %r\" % (mean, stdev, param))"
      ],
      "execution_count": null,
      "outputs": [
        {
          "output_type": "stream",
          "text": [
            "Best: 0.850000 using {'n_neighbors': 1}\n",
            "0.850000 (0.059686) with: {'n_neighbors': 1}\n",
            "0.837132 (0.066014) with: {'n_neighbors': 3}\n",
            "0.837500 (0.037377) with: {'n_neighbors': 5}\n",
            "0.763971 (0.089374) with: {'n_neighbors': 7}\n",
            "0.751471 (0.087051) with: {'n_neighbors': 9}\n",
            "0.733456 (0.104831) with: {'n_neighbors': 11}\n",
            "0.733088 (0.105806) with: {'n_neighbors': 13}\n",
            "0.727941 (0.076148) with: {'n_neighbors': 15}\n",
            "0.709926 (0.079287) with: {'n_neighbors': 17}\n",
            "0.722059 (0.085088) with: {'n_neighbors': 19}\n",
            "0.710294 (0.109505) with: {'n_neighbors': 21}\n"
          ],
          "name": "stdout"
        }
      ]
    },
    {
      "cell_type": "markdown",
      "metadata": {
        "id": "HhiFp_ddfYQS"
      },
      "source": [
        "* Tuning SVM"
      ]
    },
    {
      "cell_type": "code",
      "metadata": {
        "colab": {
          "base_uri": "https://localhost:8080/"
        },
        "id": "NyKbgMMlfZD7",
        "outputId": "9afe497f-ba3e-44f0-bd9f-8a585d203d7a"
      },
      "source": [
        "# Tune scaled SVM\n",
        "scaler = StandardScaler().fit(X_train)\n",
        "rescaledX = scaler.transform(X_train)\n",
        "c_values = [0.1, 0.3, 0.5, 0.7, 0.9, 1.0, 1.3, 1.5, 1.7, 2.0]\n",
        "kernel_values = ['linear', 'poly', 'rbf', 'sigmoid']\n",
        "param_grid = dict(C=c_values, kernel=kernel_values)\n",
        "model = SVC()\n",
        "kfold = KFold(n_splits=num_folds)\n",
        "grid = GridSearchCV(estimator=model, param_grid=param_grid, scoring=scoring, cv=kfold)\n",
        "grid_result = grid.fit(rescaledX, Y_train)\n",
        "print(\"Best: %f using %s\" % (grid_result.best_score_, grid_result.best_params_))\n",
        "means = grid_result.cv_results_['mean_test_score']\n",
        "stds = grid_result.cv_results_['std_test_score']\n",
        "params = grid_result.cv_results_['params']\n",
        "for mean, stdev, param in zip(means, stds, params):\n",
        "  print(\"%f (%f) with: %r\" % (mean, stdev, param))"
      ],
      "execution_count": null,
      "outputs": [
        {
          "output_type": "stream",
          "text": [
            "Best: 0.872426 using {'C': 2.0, 'kernel': 'rbf'}\n",
            "0.758456 (0.099483) with: {'C': 0.1, 'kernel': 'linear'}\n",
            "0.535294 (0.114222) with: {'C': 0.1, 'kernel': 'poly'}\n",
            "0.573162 (0.130930) with: {'C': 0.1, 'kernel': 'rbf'}\n",
            "0.704044 (0.066933) with: {'C': 0.1, 'kernel': 'sigmoid'}\n",
            "0.746324 (0.109507) with: {'C': 0.3, 'kernel': 'linear'}\n",
            "0.642647 (0.132187) with: {'C': 0.3, 'kernel': 'poly'}\n",
            "0.765809 (0.091692) with: {'C': 0.3, 'kernel': 'rbf'}\n",
            "0.734926 (0.054567) with: {'C': 0.3, 'kernel': 'sigmoid'}\n",
            "0.740074 (0.082636) with: {'C': 0.5, 'kernel': 'linear'}\n",
            "0.662132 (0.105668) with: {'C': 0.5, 'kernel': 'poly'}\n",
            "0.788235 (0.064190) with: {'C': 0.5, 'kernel': 'rbf'}\n",
            "0.746691 (0.058742) with: {'C': 0.5, 'kernel': 'sigmoid'}\n",
            "0.746691 (0.084198) with: {'C': 0.7, 'kernel': 'linear'}\n",
            "0.746324 (0.129754) with: {'C': 0.7, 'kernel': 'poly'}\n",
            "0.812500 (0.085513) with: {'C': 0.7, 'kernel': 'rbf'}\n",
            "0.758824 (0.047088) with: {'C': 0.7, 'kernel': 'sigmoid'}\n",
            "0.758824 (0.096520) with: {'C': 0.9, 'kernel': 'linear'}\n",
            "0.769853 (0.111321) with: {'C': 0.9, 'kernel': 'poly'}\n",
            "0.836397 (0.088697) with: {'C': 0.9, 'kernel': 'rbf'}\n",
            "0.752941 (0.074130) with: {'C': 0.9, 'kernel': 'sigmoid'}\n",
            "0.752574 (0.098883) with: {'C': 1.0, 'kernel': 'linear'}\n",
            "0.781985 (0.101194) with: {'C': 1.0, 'kernel': 'poly'}\n",
            "0.836397 (0.088697) with: {'C': 1.0, 'kernel': 'rbf'}\n",
            "0.752574 (0.070872) with: {'C': 1.0, 'kernel': 'sigmoid'}\n",
            "0.769853 (0.106086) with: {'C': 1.3, 'kernel': 'linear'}\n",
            "0.818382 (0.107151) with: {'C': 1.3, 'kernel': 'poly'}\n",
            "0.848162 (0.080414) with: {'C': 1.3, 'kernel': 'rbf'}\n",
            "0.722794 (0.072066) with: {'C': 1.3, 'kernel': 'sigmoid'}\n",
            "0.758088 (0.092026) with: {'C': 1.5, 'kernel': 'linear'}\n",
            "0.830147 (0.110255) with: {'C': 1.5, 'kernel': 'poly'}\n",
            "0.866176 (0.091458) with: {'C': 1.5, 'kernel': 'rbf'}\n",
            "0.728309 (0.078171) with: {'C': 1.5, 'kernel': 'sigmoid'}\n",
            "0.746324 (0.090414) with: {'C': 1.7, 'kernel': 'linear'}\n",
            "0.830515 (0.116706) with: {'C': 1.7, 'kernel': 'poly'}\n",
            "0.860294 (0.088281) with: {'C': 1.7, 'kernel': 'rbf'}\n",
            "0.715441 (0.089652) with: {'C': 1.7, 'kernel': 'sigmoid'}\n",
            "0.758456 (0.094064) with: {'C': 2.0, 'kernel': 'linear'}\n",
            "0.824632 (0.118381) with: {'C': 2.0, 'kernel': 'poly'}\n",
            "0.872426 (0.097562) with: {'C': 2.0, 'kernel': 'rbf'}\n",
            "0.733456 (0.090179) with: {'C': 2.0, 'kernel': 'sigmoid'}\n"
          ],
          "name": "stdout"
        }
      ]
    },
    {
      "cell_type": "markdown",
      "metadata": {
        "id": "eJa--MUqfn5a"
      },
      "source": [
        "# Ensemble Methods"
      ]
    },
    {
      "cell_type": "markdown",
      "metadata": {
        "id": "SbUgp3jLfsOp"
      },
      "source": [
        "* Boosting Methods: AdaBoost (AB) and Gradient Boosting (GBM).\n",
        "* Bagging Methods: Random Forests (RF) and Extra Trees (ET)."
      ]
    },
    {
      "cell_type": "code",
      "metadata": {
        "colab": {
          "base_uri": "https://localhost:8080/"
        },
        "id": "RkCVD-QjfpHP",
        "outputId": "3e4a18de-b9af-40d1-ee23-2cd393824873"
      },
      "source": [
        "# ensembles\n",
        "ensembles = []\n",
        "ensembles.append(('AB', AdaBoostClassifier()))\n",
        "ensembles.append(('GBM', GradientBoostingClassifier()))\n",
        "ensembles.append(('RF', RandomForestClassifier()))\n",
        "ensembles.append(('ET', ExtraTreesClassifier()))\n",
        "results = []\n",
        "names = []\n",
        "for name, model in ensembles:\n",
        "  kfold = KFold(n_splits=num_folds)\n",
        "  cv_results = cross_val_score(model, X_train, Y_train, cv=kfold, scoring=scoring)\n",
        "  results.append(cv_results)\n",
        "  names.append(name)\n",
        "  msg = \"%s: %f (%f)\" % (name, cv_results.mean(), cv_results.std())\n",
        "  print(msg)"
      ],
      "execution_count": null,
      "outputs": [
        {
          "output_type": "stream",
          "text": [
            "AB: 0.819853 (0.058293)\n",
            "GBM: 0.841912 (0.106427)\n",
            "RF: 0.819118 (0.093700)\n",
            "ET: 0.872059 (0.075771)\n"
          ],
          "name": "stdout"
        }
      ]
    },
    {
      "cell_type": "code",
      "metadata": {
        "colab": {
          "base_uri": "https://localhost:8080/",
          "height": 294
        },
        "id": "6hF3_WSaf_Cb",
        "outputId": "79aad783-f9c3-45a6-ca37-672c063d9baf"
      },
      "source": [
        "# Compare Algorithms\n",
        "fig = pyplot.figure()\n",
        "fig.suptitle('Ensemble Algorithm Comparison')\n",
        "ax = fig.add_subplot(111)\n",
        "pyplot.boxplot(results)\n",
        "ax.set_xticklabels(names)\n",
        "pyplot.show()"
      ],
      "execution_count": null,
      "outputs": [
        {
          "output_type": "display_data",
          "data": {
            "image/png": "[encoded data removed]",
            "text/plain": [
              "<Figure size 432x288 with 1 Axes>"
            ]
          },
          "metadata": {
            "tags": [],
            "needs_background": "light"
          }
        }
      ]
    },
    {
      "cell_type": "markdown",
      "metadata": {
        "id": "R70a3bocgGAd"
      },
      "source": [
        "# Finalize Model"
      ]
    },
    {
      "cell_type": "code",
      "metadata": {
        "colab": {
          "base_uri": "https://localhost:8080/"
        },
        "id": "bY29qWUugHEg",
        "outputId": "4d20f1d7-80d7-44ea-abd9-064e2f5e9b5f"
      },
      "source": [
        "# prepare the model\n",
        "scaler = StandardScaler().fit(X_train)\n",
        "rescaledX = scaler.transform(X_train)\n",
        "model = SVC(C=2.0, kernel='rbf')\n",
        "model.fit(rescaledX, Y_train)\n",
        "\n",
        "# estimate accuracy on validation dataset\n",
        "rescaledValidationX = scaler.transform(X_validation)\n",
        "predictions = model.predict(rescaledValidationX)\n",
        "print(accuracy_score(Y_validation, predictions))\n",
        "print(confusion_matrix(Y_validation, predictions))\n",
        "print(classification_report(Y_validation, predictions))"
      ],
      "execution_count": null,
      "outputs": [
        {
          "output_type": "stream",
          "text": [
            "0.9285714285714286\n",
            "[[25  2]\n",
            " [ 1 14]]\n",
            "              precision    recall  f1-score   support\n",
            "\n",
            "           M       0.96      0.93      0.94        27\n",
            "           R       0.88      0.93      0.90        15\n",
            "\n",
            "    accuracy                           0.93        42\n",
            "   macro avg       0.92      0.93      0.92        42\n",
            "weighted avg       0.93      0.93      0.93        42\n",
            "\n"
          ],
          "name": "stdout"
        }
      ]
    }
  ]
}